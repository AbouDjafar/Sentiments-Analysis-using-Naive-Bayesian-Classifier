{
 "cells": [
  {
   "cell_type": "markdown",
   "id": "ecd01f4a",
   "metadata": {},
   "source": [
    "# TPE WEB MINING (DSI 553) - Groupe 1\n",
    "\n",
    "## 1) Importation des données"
   ]
  },
  {
   "cell_type": "code",
   "execution_count": 188,
   "id": "07abd44f",
   "metadata": {},
   "outputs": [
    {
     "data": {
      "text/html": [
       "<div>\n",
       "<style scoped>\n",
       "    .dataframe tbody tr th:only-of-type {\n",
       "        vertical-align: middle;\n",
       "    }\n",
       "\n",
       "    .dataframe tbody tr th {\n",
       "        vertical-align: top;\n",
       "    }\n",
       "\n",
       "    .dataframe thead th {\n",
       "        text-align: right;\n",
       "    }\n",
       "</style>\n",
       "<table border=\"1\" class=\"dataframe\">\n",
       "  <thead>\n",
       "    <tr style=\"text-align: right;\">\n",
       "      <th></th>\n",
       "      <th>Id_Commentaire</th>\n",
       "      <th>Commentaires</th>\n",
       "      <th>Sentiments</th>\n",
       "    </tr>\n",
       "  </thead>\n",
       "  <tbody>\n",
       "    <tr>\n",
       "      <th>0</th>\n",
       "      <td>1</td>\n",
       "      <td>J'adore ce produit, il est incroyable !</td>\n",
       "      <td>+</td>\n",
       "    </tr>\n",
       "    <tr>\n",
       "      <th>1</th>\n",
       "      <td>2</td>\n",
       "      <td>Super achat, je le recommande vivement.</td>\n",
       "      <td>+</td>\n",
       "    </tr>\n",
       "    <tr>\n",
       "      <th>2</th>\n",
       "      <td>3</td>\n",
       "      <td>Vous êtes vraiment cool !</td>\n",
       "      <td>+</td>\n",
       "    </tr>\n",
       "    <tr>\n",
       "      <th>3</th>\n",
       "      <td>4</td>\n",
       "      <td>Ce produit répond parfaitement à mes attentes.</td>\n",
       "      <td>+</td>\n",
       "    </tr>\n",
       "    <tr>\n",
       "      <th>4</th>\n",
       "      <td>5</td>\n",
       "      <td>Je suis impressionné par la qualité de cet art...</td>\n",
       "      <td>+</td>\n",
       "    </tr>\n",
       "  </tbody>\n",
       "</table>\n",
       "</div>"
      ],
      "text/plain": [
       "   Id_Commentaire                                       Commentaires  \\\n",
       "0               1            J'adore ce produit, il est incroyable !   \n",
       "1               2            Super achat, je le recommande vivement.   \n",
       "2               3                          Vous êtes vraiment cool !   \n",
       "3               4     Ce produit répond parfaitement à mes attentes.   \n",
       "4               5  Je suis impressionné par la qualité de cet art...   \n",
       "\n",
       "  Sentiments  \n",
       "0          +  \n",
       "1          +  \n",
       "2          +  \n",
       "3          +  \n",
       "4          +  "
      ]
     },
     "execution_count": 188,
     "metadata": {},
     "output_type": "execute_result"
    }
   ],
   "source": [
    "import pandas as pd\n",
    "\n",
    "dataset = pd.read_csv(\"C:/Users/Djafar/Downloads/data_set.csv\", encoding = \"utf-8\")\n",
    "dataset.head()"
   ]
  },
  {
   "cell_type": "markdown",
   "id": "36c5e6e8",
   "metadata": {},
   "source": [
    "## 2) Prétraitement des données chargées\n",
    "\n",
    "### 2.1) Retrait des mots-vides"
   ]
  },
  {
   "cell_type": "markdown",
   "id": "29cbe918",
   "metadata": {},
   "source": [
    "Ci dessous la fonction nous permettant de prétraiter nos données (les commentaires) en retirant tout ce qui est superflu et en les normalisant."
   ]
  },
  {
   "cell_type": "code",
   "execution_count": 34,
   "id": "5c92808e",
   "metadata": {},
   "outputs": [],
   "source": [
    "from nltk.corpus import stopwords\n",
    "from nltk.tokenize import word_tokenize\n",
    "import string\n",
    "import spacy\n",
    "# ------------- Chargement du lemmatiseur en français de la librairie spacy ---------------------\n",
    "lemmatizer = spacy.load('fr_core_news_md')\n",
    "# ------------- Chargement de la librairie de gestion des mots vides en français ---------------\n",
    "mots_vides = nltk.corpus.stopwords.words('french')\n",
    "# ------------- Définition de la fonction de nettoyage des mots (retrait des caractères spééciaux, retrait mots vides, lemmatiseur)\n",
    "def nettoyeur_de_mots(text):\n",
    "# ------------- Retrait des caractères de ponctuation -----------------------------------------\n",
    "    text = text.translate(str.maketrans('', '', string.punctuation)).lower() \n",
    "# ------------- lemmatisation du texte --------------------------------------------------------\n",
    "    tokens = [token.lemma_ for token in lemmatizer(text)]\n",
    "# ------------- Retrait des mots-vides -------------------------------------------------------\n",
    "    filtered_tokens = [token for token in tokens if token not in mots_vides]\n",
    "    return \" \".join(filtered_tokens)\n"
   ]
  },
  {
   "cell_type": "markdown",
   "id": "513dfbf9",
   "metadata": {},
   "source": [
    "### 2.2) Normalisation de la notation des sentimenst + et - par 1 et 0 respectivement"
   ]
  },
  {
   "cell_type": "code",
   "execution_count": 189,
   "id": "49aed6a2",
   "metadata": {},
   "outputs": [
    {
     "data": {
      "text/html": [
       "<div>\n",
       "<style scoped>\n",
       "    .dataframe tbody tr th:only-of-type {\n",
       "        vertical-align: middle;\n",
       "    }\n",
       "\n",
       "    .dataframe tbody tr th {\n",
       "        vertical-align: top;\n",
       "    }\n",
       "\n",
       "    .dataframe thead th {\n",
       "        text-align: right;\n",
       "    }\n",
       "</style>\n",
       "<table border=\"1\" class=\"dataframe\">\n",
       "  <thead>\n",
       "    <tr style=\"text-align: right;\">\n",
       "      <th></th>\n",
       "      <th>Id_Commentaire</th>\n",
       "      <th>Commentaires</th>\n",
       "      <th>Sentiments</th>\n",
       "    </tr>\n",
       "  </thead>\n",
       "  <tbody>\n",
       "    <tr>\n",
       "      <th>80</th>\n",
       "      <td>81</td>\n",
       "      <td>Livraison rapide et emballage soigné, je suis ...</td>\n",
       "      <td>positif</td>\n",
       "    </tr>\n",
       "    <tr>\n",
       "      <th>81</th>\n",
       "      <td>82</td>\n",
       "      <td>Un excellent rapport qualité-prix pour ce prod...</td>\n",
       "      <td>positif</td>\n",
       "    </tr>\n",
       "    <tr>\n",
       "      <th>82</th>\n",
       "      <td>83</td>\n",
       "      <td>Je suis totalement satisfait de mon achat, mer...</td>\n",
       "      <td>positif</td>\n",
       "    </tr>\n",
       "    <tr>\n",
       "      <th>83</th>\n",
       "      <td>84</td>\n",
       "      <td>C'est exactement ce que je cherchais, je suis ...</td>\n",
       "      <td>positif</td>\n",
       "    </tr>\n",
       "    <tr>\n",
       "      <th>84</th>\n",
       "      <td>85</td>\n",
       "      <td>Ce produit est génial, je ne peux plus m'en pa...</td>\n",
       "      <td>positif</td>\n",
       "    </tr>\n",
       "    <tr>\n",
       "      <th>85</th>\n",
       "      <td>86</td>\n",
       "      <td>L'article que j'ai reçu ne correspond pas du t...</td>\n",
       "      <td>negatif</td>\n",
       "    </tr>\n",
       "    <tr>\n",
       "      <th>86</th>\n",
       "      <td>87</td>\n",
       "      <td>Le service client est injoignable, aucune répo...</td>\n",
       "      <td>negatif</td>\n",
       "    </tr>\n",
       "    <tr>\n",
       "      <th>87</th>\n",
       "      <td>88</td>\n",
       "      <td>La qualité de fabrication de ce produit est mé...</td>\n",
       "      <td>negatif</td>\n",
       "    </tr>\n",
       "    <tr>\n",
       "      <th>88</th>\n",
       "      <td>89</td>\n",
       "      <td>Le colis est arrivé en mauvais état, le produi...</td>\n",
       "      <td>negatif</td>\n",
       "    </tr>\n",
       "    <tr>\n",
       "      <th>89</th>\n",
       "      <td>90</td>\n",
       "      <td>Ce produit est une arnaque, il ne fonctionne p...</td>\n",
       "      <td>negatif</td>\n",
       "    </tr>\n",
       "    <tr>\n",
       "      <th>90</th>\n",
       "      <td>91</td>\n",
       "      <td>J'ai été agréablement surpris par la qualité d...</td>\n",
       "      <td>positif</td>\n",
       "    </tr>\n",
       "    <tr>\n",
       "      <th>91</th>\n",
       "      <td>92</td>\n",
       "      <td>Le service client a été très réactif et compét...</td>\n",
       "      <td>positif</td>\n",
       "    </tr>\n",
       "    <tr>\n",
       "      <th>92</th>\n",
       "      <td>93</td>\n",
       "      <td>Ce produit est facile à utiliser et offre de s...</td>\n",
       "      <td>positif</td>\n",
       "    </tr>\n",
       "    <tr>\n",
       "      <th>93</th>\n",
       "      <td>94</td>\n",
       "      <td>La livraison a été rapide et le colis était bi...</td>\n",
       "      <td>positif</td>\n",
       "    </tr>\n",
       "    <tr>\n",
       "      <th>94</th>\n",
       "      <td>95</td>\n",
       "      <td>Je suis déçu par la performance de ce produit,...</td>\n",
       "      <td>negatif</td>\n",
       "    </tr>\n",
       "    <tr>\n",
       "      <th>95</th>\n",
       "      <td>96</td>\n",
       "      <td>Le service client est peu aimable et n'a pas r...</td>\n",
       "      <td>negatif</td>\n",
       "    </tr>\n",
       "    <tr>\n",
       "      <th>96</th>\n",
       "      <td>97</td>\n",
       "      <td>J'ai reçu un produit défectueux et le retour a...</td>\n",
       "      <td>negatif</td>\n",
       "    </tr>\n",
       "    <tr>\n",
       "      <th>97</th>\n",
       "      <td>98</td>\n",
       "      <td>La livraison a été retardée sans aucune commun...</td>\n",
       "      <td>negatif</td>\n",
       "    </tr>\n",
       "    <tr>\n",
       "      <th>98</th>\n",
       "      <td>99</td>\n",
       "      <td>Ce produit est cher pour ce qu'il offre, je ne...</td>\n",
       "      <td>negatif</td>\n",
       "    </tr>\n",
       "    <tr>\n",
       "      <th>99</th>\n",
       "      <td>100</td>\n",
       "      <td>Vous êtes vraiment cool !</td>\n",
       "      <td>positif</td>\n",
       "    </tr>\n",
       "  </tbody>\n",
       "</table>\n",
       "</div>"
      ],
      "text/plain": [
       "    Id_Commentaire                                       Commentaires  \\\n",
       "80              81  Livraison rapide et emballage soigné, je suis ...   \n",
       "81              82  Un excellent rapport qualité-prix pour ce prod...   \n",
       "82              83  Je suis totalement satisfait de mon achat, mer...   \n",
       "83              84  C'est exactement ce que je cherchais, je suis ...   \n",
       "84              85  Ce produit est génial, je ne peux plus m'en pa...   \n",
       "85              86  L'article que j'ai reçu ne correspond pas du t...   \n",
       "86              87  Le service client est injoignable, aucune répo...   \n",
       "87              88  La qualité de fabrication de ce produit est mé...   \n",
       "88              89  Le colis est arrivé en mauvais état, le produi...   \n",
       "89              90  Ce produit est une arnaque, il ne fonctionne p...   \n",
       "90              91  J'ai été agréablement surpris par la qualité d...   \n",
       "91              92  Le service client a été très réactif et compét...   \n",
       "92              93  Ce produit est facile à utiliser et offre de s...   \n",
       "93              94  La livraison a été rapide et le colis était bi...   \n",
       "94              95  Je suis déçu par la performance de ce produit,...   \n",
       "95              96  Le service client est peu aimable et n'a pas r...   \n",
       "96              97  J'ai reçu un produit défectueux et le retour a...   \n",
       "97              98  La livraison a été retardée sans aucune commun...   \n",
       "98              99  Ce produit est cher pour ce qu'il offre, je ne...   \n",
       "99             100                          Vous êtes vraiment cool !   \n",
       "\n",
       "   Sentiments  \n",
       "80    positif  \n",
       "81    positif  \n",
       "82    positif  \n",
       "83    positif  \n",
       "84    positif  \n",
       "85    negatif  \n",
       "86    negatif  \n",
       "87    negatif  \n",
       "88    negatif  \n",
       "89    negatif  \n",
       "90    positif  \n",
       "91    positif  \n",
       "92    positif  \n",
       "93    positif  \n",
       "94    negatif  \n",
       "95    negatif  \n",
       "96    negatif  \n",
       "97    negatif  \n",
       "98    negatif  \n",
       "99    positif  "
      ]
     },
     "execution_count": 189,
     "metadata": {},
     "output_type": "execute_result"
    }
   ],
   "source": [
    "# --------------- Dans la fonction lambda on remplace + par 1 et - par 0 --------------------\n",
    "dataset['Sentiments'] = dataset['Sentiments'].apply(lambda x:\"positif\" if (x == '+') else \"negatif\")\n",
    "dataset.tail(20)"
   ]
  },
  {
   "cell_type": "markdown",
   "id": "375d5b1f",
   "metadata": {},
   "source": [
    "## 3) Subdivision du jeu de données en en données d'entraînement et de test"
   ]
  },
  {
   "cell_type": "code",
   "execution_count": 165,
   "id": "9332abdc",
   "metadata": {},
   "outputs": [],
   "source": [
    "from sklearn.model_selection import train_test_split\n",
    "X_train, X_test, y_train, y_test = train_test_split(dataset['Commentaires'].apply(nettoyeur_de_mots), dataset['Sentiments'], test_size = 0.2, train_size = 0.8, random_state = 66)"
   ]
  },
  {
   "cell_type": "code",
   "execution_count": 166,
   "id": "016d13d2",
   "metadata": {},
   "outputs": [],
   "source": [
    "from sklearn.feature_extraction.text import TfidfVectorizer"
   ]
  },
  {
   "cell_type": "code",
   "execution_count": 167,
   "id": "e732c9d5",
   "metadata": {},
   "outputs": [],
   "source": [
    "vectorizer = TfidfVectorizer()\n",
    "X_train = vectorizer.fit_transform(X_train)\n",
    "X_test = vectorizer.transform(X_test)"
   ]
  },
  {
   "cell_type": "markdown",
   "id": "159780f2",
   "metadata": {},
   "source": [
    "## 4) Constrisons un modèle de classification selon l'algorithme du Classifieur Naïf de Bayesien (CNB)"
   ]
  },
  {
   "cell_type": "code",
   "execution_count": 168,
   "id": "6ed36f4a",
   "metadata": {},
   "outputs": [],
   "source": [
    "from sklearn.naive_bayes import MultinomialNB"
   ]
  },
  {
   "cell_type": "code",
   "execution_count": 169,
   "id": "1364ea22",
   "metadata": {},
   "outputs": [
    {
     "data": {
      "text/html": [
       "<style>#sk-container-id-6 {color: black;background-color: white;}#sk-container-id-6 pre{padding: 0;}#sk-container-id-6 div.sk-toggleable {background-color: white;}#sk-container-id-6 label.sk-toggleable__label {cursor: pointer;display: block;width: 100%;margin-bottom: 0;padding: 0.3em;box-sizing: border-box;text-align: center;}#sk-container-id-6 label.sk-toggleable__label-arrow:before {content: \"▸\";float: left;margin-right: 0.25em;color: #696969;}#sk-container-id-6 label.sk-toggleable__label-arrow:hover:before {color: black;}#sk-container-id-6 div.sk-estimator:hover label.sk-toggleable__label-arrow:before {color: black;}#sk-container-id-6 div.sk-toggleable__content {max-height: 0;max-width: 0;overflow: hidden;text-align: left;background-color: #f0f8ff;}#sk-container-id-6 div.sk-toggleable__content pre {margin: 0.2em;color: black;border-radius: 0.25em;background-color: #f0f8ff;}#sk-container-id-6 input.sk-toggleable__control:checked~div.sk-toggleable__content {max-height: 200px;max-width: 100%;overflow: auto;}#sk-container-id-6 input.sk-toggleable__control:checked~label.sk-toggleable__label-arrow:before {content: \"▾\";}#sk-container-id-6 div.sk-estimator input.sk-toggleable__control:checked~label.sk-toggleable__label {background-color: #d4ebff;}#sk-container-id-6 div.sk-label input.sk-toggleable__control:checked~label.sk-toggleable__label {background-color: #d4ebff;}#sk-container-id-6 input.sk-hidden--visually {border: 0;clip: rect(1px 1px 1px 1px);clip: rect(1px, 1px, 1px, 1px);height: 1px;margin: -1px;overflow: hidden;padding: 0;position: absolute;width: 1px;}#sk-container-id-6 div.sk-estimator {font-family: monospace;background-color: #f0f8ff;border: 1px dotted black;border-radius: 0.25em;box-sizing: border-box;margin-bottom: 0.5em;}#sk-container-id-6 div.sk-estimator:hover {background-color: #d4ebff;}#sk-container-id-6 div.sk-parallel-item::after {content: \"\";width: 100%;border-bottom: 1px solid gray;flex-grow: 1;}#sk-container-id-6 div.sk-label:hover label.sk-toggleable__label {background-color: #d4ebff;}#sk-container-id-6 div.sk-serial::before {content: \"\";position: absolute;border-left: 1px solid gray;box-sizing: border-box;top: 0;bottom: 0;left: 50%;z-index: 0;}#sk-container-id-6 div.sk-serial {display: flex;flex-direction: column;align-items: center;background-color: white;padding-right: 0.2em;padding-left: 0.2em;position: relative;}#sk-container-id-6 div.sk-item {position: relative;z-index: 1;}#sk-container-id-6 div.sk-parallel {display: flex;align-items: stretch;justify-content: center;background-color: white;position: relative;}#sk-container-id-6 div.sk-item::before, #sk-container-id-6 div.sk-parallel-item::before {content: \"\";position: absolute;border-left: 1px solid gray;box-sizing: border-box;top: 0;bottom: 0;left: 50%;z-index: -1;}#sk-container-id-6 div.sk-parallel-item {display: flex;flex-direction: column;z-index: 1;position: relative;background-color: white;}#sk-container-id-6 div.sk-parallel-item:first-child::after {align-self: flex-end;width: 50%;}#sk-container-id-6 div.sk-parallel-item:last-child::after {align-self: flex-start;width: 50%;}#sk-container-id-6 div.sk-parallel-item:only-child::after {width: 0;}#sk-container-id-6 div.sk-dashed-wrapped {border: 1px dashed gray;margin: 0 0.4em 0.5em 0.4em;box-sizing: border-box;padding-bottom: 0.4em;background-color: white;}#sk-container-id-6 div.sk-label label {font-family: monospace;font-weight: bold;display: inline-block;line-height: 1.2em;}#sk-container-id-6 div.sk-label-container {text-align: center;}#sk-container-id-6 div.sk-container {/* jupyter's `normalize.less` sets `[hidden] { display: none; }` but bootstrap.min.css set `[hidden] { display: none !important; }` so we also need the `!important` here to be able to override the default hidden behavior on the sphinx rendered scikit-learn.org. See: https://github.com/scikit-learn/scikit-learn/issues/21755 */display: inline-block !important;position: relative;}#sk-container-id-6 div.sk-text-repr-fallback {display: none;}</style><div id=\"sk-container-id-6\" class=\"sk-top-container\"><div class=\"sk-text-repr-fallback\"><pre>MultinomialNB()</pre><b>In a Jupyter environment, please rerun this cell to show the HTML representation or trust the notebook. <br />On GitHub, the HTML representation is unable to render, please try loading this page with nbviewer.org.</b></div><div class=\"sk-container\" hidden><div class=\"sk-item\"><div class=\"sk-estimator sk-toggleable\"><input class=\"sk-toggleable__control sk-hidden--visually\" id=\"sk-estimator-id-6\" type=\"checkbox\" checked><label for=\"sk-estimator-id-6\" class=\"sk-toggleable__label sk-toggleable__label-arrow\">MultinomialNB</label><div class=\"sk-toggleable__content\"><pre>MultinomialNB()</pre></div></div></div></div></div>"
      ],
      "text/plain": [
       "MultinomialNB()"
      ]
     },
     "execution_count": 169,
     "metadata": {},
     "output_type": "execute_result"
    }
   ],
   "source": [
    "cnb = MultinomialNB()\n",
    "cnb.fit(X_train, y_train)"
   ]
  },
  {
   "cell_type": "markdown",
   "id": "1a8dd5f9",
   "metadata": {},
   "source": [
    "## 5) Générons la matrice de confusion du modèle"
   ]
  },
  {
   "cell_type": "code",
   "execution_count": 177,
   "id": "65743beb",
   "metadata": {},
   "outputs": [
    {
     "data": {
      "image/png": "[encoded data removed]",
      "text/plain": [
       "<Figure size 640x480 with 2 Axes>"
      ]
     },
     "metadata": {},
     "output_type": "display_data"
    }
   ],
   "source": [
    "import numpy as np\n",
    "from sklearn.metrics import confusion_matrix, ConfusionMatrixDisplay\n",
    "import matplotlib.pyplot as plt\n",
    "\n",
    "cm = confusion_matrix(y_true=y_test, y_pred=cnb.predict(X_test))\n",
    "\n",
    "cm_display = ConfusionMatrixDisplay(confusion_matrix = cm, display_labels = [False, True])\n",
    "\n",
    "cm_display.plot()\n",
    "plt.show()"
   ]
  },
  {
   "cell_type": "markdown",
   "id": "d84e20e4",
   "metadata": {},
   "source": [
    "## 7) Imprimons les rapports de la classification puis évaluons la performance du modèle utilisé."
   ]
  },
  {
   "cell_type": "code",
   "execution_count": 182,
   "id": "61f8a8a0",
   "metadata": {},
   "outputs": [
    {
     "name": "stdout",
     "output_type": "stream",
     "text": [
      "Accuracy:  0.95\n",
      "Precision:  0.95625\n",
      "Recall:  0.95\n"
     ]
    }
   ],
   "source": [
    "from sklearn.metrics import accuracy_score, precision_score, recall_score\n",
    "y_pred = cnb.predict(X_test)\n",
    "print(\"Accuracy: \", accuracy_score(y_test, y_pred))\n",
    "print(\"Precision: \", precision_score(y_test, y_pred, average='weighted'))\n",
    "print(\"Recall: \", recall_score(y_test, y_pred, average='weighted'))"
   ]
  },
  {
   "cell_type": "markdown",
   "id": "268187ef",
   "metadata": {},
   "source": [
    "## 8) Utiliser votre modèle entraîné pour prédire le sentiment des commentaires non étiquetés suivants :\n",
    "- \"Ce produit est incroyable !\"\n",
    "- \"Je suis déçu de mon achat.\"\n",
    "- \"Le service client est exceptionnel.\"\n",
    "- \" Vous êtes le meilleur\""
   ]
  },
  {
   "cell_type": "code",
   "execution_count": 172,
   "id": "87c55c3f",
   "metadata": {},
   "outputs": [],
   "source": [
    "X = [\"Ce produit est incroyable !\", \"Je suis déçu de mon achat.\", \"Le service client est exceptionnel.\", \" Vous êtes le meilleur\"]\n",
    "X = vectorizer.transform(map(nettoyeur_de_mots, X))"
   ]
  },
  {
   "cell_type": "code",
   "execution_count": 173,
   "id": "c5d14eac",
   "metadata": {},
   "outputs": [
    {
     "name": "stdout",
     "output_type": "stream",
     "text": [
      "['positif' 'negatif' 'positif' 'positif']\n"
     ]
    }
   ],
   "source": [
    "y_pred = cnb.predict(X)\n",
    "print(y_pred)"
   ]
  },
  {
   "cell_type": "code",
   "execution_count": null,
   "id": "bfe369e7",
   "metadata": {},
   "outputs": [],
   "source": []
  }
 ],
 "metadata": {
  "kernelspec": {
   "display_name": "Python 3 (ipykernel)",
   "language": "python",
   "name": "python3"
  },
  "language_info": {
   "codemirror_mode": {
    "name": "ipython",
    "version": 3
   },
   "file_extension": ".py",
   "mimetype": "text/x-python",
   "name": "python",
   "nbconvert_exporter": "python",
   "pygments_lexer": "ipython3",
   "version": "3.9.16"
  }
 },
 "nbformat": 4,
 "nbformat_minor": 5
}
